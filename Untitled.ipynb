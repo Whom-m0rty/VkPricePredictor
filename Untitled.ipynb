{
 "cells": [
  {
   "cell_type": "code",
   "execution_count": 1,
   "id": "124206f7",
   "metadata": {},
   "outputs": [
    {
     "name": "stdout",
     "output_type": "stream",
     "text": [
      "(9417, 16)\n"
     ]
    }
   ],
   "source": [
    "import pandas as pd\n",
    "from sklearn.model_selection import train_test_split\n",
    "from sklearn.linear_model import LinearRegression\n",
    "from sklearn.metrics import mean_absolute_error, mean_squared_error\n",
    "\n",
    "# Загрузка данных\n",
    "df = pd.read_csv('data/missing_accounts.csv')\n",
    "# Удаляем ненужные колонки, если есть (например, vk_city, если она пустая)\n",
    "df = df.drop(columns=['id', 'status', 'extra_mobile_country', 'extra_signup_at',\n",
    "                     'created_at', 'updated_at', 'can_buy', 'can_resell', 'extra_first_name', 'extra_last_name'])\n",
    "df.dropna()\n",
    "print(df.shape)"
   ]
  },
  {
   "cell_type": "code",
   "execution_count": 8,
   "id": "eabf41e3",
   "metadata": {},
   "outputs": [
    {
     "name": "stdout",
     "output_type": "stream",
     "text": [
      "    seller_username  median_price  seller_sold_accounts_count\n",
      "0           214wwqq          23.0                         781\n",
      "1         299Annask        3300.0                          31\n",
      "2         4svDazz2K          49.0                         548\n",
      "3         AccSeller          20.0                        4634\n",
      "4           Akron1x          20.0                        2358\n",
      "..              ...           ...                         ...\n",
      "151        velarsen          35.0                           2\n",
      "152          vovchi         112.5                         840\n",
      "153       westerest          99.0                           3\n",
      "154          xxxpob          53.0                         144\n",
      "155       zapolneni          10.0                        1112\n",
      "\n",
      "[156 rows x 3 columns]\n"
     ]
    }
   ],
   "source": [
    "filtered_df = df[df['is_resell'] == True]\n",
    "\n",
    "# Группировка по seller_username и расчет медианы по price\n",
    "median_price = filtered_df.groupby('seller_username')['price'].median().reset_index()\n",
    "median_price = median_price.rename(columns={'price': 'median_price'})\n",
    "\n",
    "# Группировка по seller_username для получения seller_sold_accounts_count (максимум проданных аккаунтов)\n",
    "sold_accounts = filtered_df.groupby('seller_username')['seller_sold_accounts_count'].max().reset_index()\n",
    "\n",
    "# Объединение медианной цены и количества проданных аккаунтов\n",
    "result = pd.merge(median_price, sold_accounts, on='seller_username')\n",
    "\n",
    "# Вывод результата\n",
    "print(result)\n",
    "\n",
    "account_count = filtered_df.groupby('seller_username').size().reset_index(name='account_count')\n",
    "\n",
    "# Объединение всех данных: медианная цена, количество проданных аккаунтов и количество аккаунтов\n",
    "result_with_count = pd.merge(result, account_count, on='seller_username')\n"
   ]
  },
  {
   "cell_type": "code",
   "execution_count": 9,
   "id": "5b4f7614",
   "metadata": {},
   "outputs": [],
   "source": [
    "file_path = 'data/seller_data.xlsx'\n",
    "result_with_count.to_excel(file_path, index=False)"
   ]
  },
  {
   "cell_type": "code",
   "execution_count": 10,
   "id": "3f0e9fe5",
   "metadata": {},
   "outputs": [
    {
     "data": {
      "text/plain": [
       "35"
      ]
     },
     "execution_count": 10,
     "metadata": {},
     "output_type": "execute_result"
    }
   ],
   "source": [
    "seller_usernames = [\n",
    "    'Vasyan22', 'Roma11rus', 'AlexDazy', 'nude', 'DottyDot', 'kolohosenka', 'sellvk', \n",
    "    'Scomir', 'lenakukaa', 'Qwaser10', 'liverpool93', 'mix', 'kiev1976', 'DRuMMC', \n",
    "    'cheapseo', 'tuzik', 'Klim447', 'hfrtnf9', 'Stillbo', 'Trump', 'sotka100', \n",
    "    'phantomvk', 'SolomonGod', 'v15h', 'Lukalias', 'PR1VET', 'kvich', 'DDRV', \n",
    "    'skif', 'Minas', 'shades90', 'AlexBober24', 'adron115', 'Unix18', 'Geser35'\n",
    "]\n",
    "\n",
    "# Фильтрация по is_resell == True и seller_username из списка\n",
    "filtered_by_usernames = filtered_df[filtered_df['seller_username'].isin(seller_usernames)]\n",
    "len(seller_usernames)"
   ]
  },
  {
   "cell_type": "code",
   "execution_count": 11,
   "id": "918d30b6",
   "metadata": {},
   "outputs": [
    {
     "data": {
      "text/plain": [
       "410"
      ]
     },
     "execution_count": 11,
     "metadata": {},
     "output_type": "execute_result"
    }
   ],
   "source": [
    "len(filtered_by_usernames)"
   ]
  },
  {
   "cell_type": "code",
   "execution_count": null,
   "id": "e2a2f519",
   "metadata": {},
   "outputs": [],
   "source": []
  }
 ],
 "metadata": {
  "kernelspec": {
   "display_name": "Python 3 (ipykernel)",
   "language": "python",
   "name": "python3"
  },
  "language_info": {
   "codemirror_mode": {
    "name": "ipython",
    "version": 3
   },
   "file_extension": ".py",
   "mimetype": "text/x-python",
   "name": "python",
   "nbconvert_exporter": "python",
   "pygments_lexer": "ipython3",
   "version": "3.9.12"
  }
 },
 "nbformat": 4,
 "nbformat_minor": 5
}
